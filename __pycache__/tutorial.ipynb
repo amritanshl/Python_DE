{
 "cells": [
  {
   "cell_type": "markdown",
   "metadata": {},
   "source": [
    "HELLO WORLD PROGRAM"
   ]
  },
  {
   "cell_type": "code",
   "execution_count": null,
   "metadata": {},
   "outputs": [],
   "source": [
    "print (\"Hello World\")"
   ]
  },
  {
   "cell_type": "markdown",
   "metadata": {},
   "source": [
    "FIND ODD or EVEN"
   ]
  },
  {
   "cell_type": "code",
   "execution_count": null,
   "metadata": {},
   "outputs": [],
   "source": [
    "num1 = int(input(\"Enter the numbes: \"))\n",
    "if(num1%2==0):\n",
    "    print(\"Even number\")\n",
    "else:\n",
    "    print(\"Odd Number\")"
   ]
  },
  {
   "cell_type": "markdown",
   "metadata": {},
   "source": [
    "Print 10 numbers"
   ]
  },
  {
   "cell_type": "code",
   "execution_count": null,
   "metadata": {},
   "outputs": [],
   "source": [
    "num2 = int(input(\"ENter the numbers\"))\n",
    "for i in range(num2):\n",
    "    print(i)"
   ]
  },
  {
   "cell_type": "markdown",
   "metadata": {},
   "source": [
    "WHILE LOOP"
   ]
  },
  {
   "cell_type": "code",
   "execution_count": null,
   "metadata": {},
   "outputs": [],
   "source": [
    "\n",
    "exitIt = True\n",
    "while(exitIt): \n",
    "    choice = input(\"\"\"\n",
    "please enter the choice as:\n",
    " + for addition\n",
    " - for substarction\n",
    " * multiplication\n",
    " / for divison\n",
    " 1/x for dividing number by 1\n",
    " x2 for square of the number\n",
    " type exit() to exit out of calculator\n",
    "\"\"\")\n",
    "    num1 = int(input(\"enter your first number\"))\n",
    "    num2 = int(input(\"enter your second number\"))\n",
    "    \n",
    "    if choice == \"+\":\n",
    "        result = num1+num2\n",
    "        print(\"addition \",result)\n",
    "    elif choice == \"-\":\n",
    "        esult = num1-num2\n",
    "        print(\"subtraction \",result)\n",
    "    elif choice == \"*\":\n",
    "        result = num1*num2\n",
    "        print(\"multiplication \",result)\n",
    "    elif choice == \"/\":\n",
    "        result = num1/num2\n",
    "        print(\"division \",result)\n",
    "    elif choice == \"1/x\":\n",
    "        result = 1/num1\n",
    "        print(\"divided by 1 \",result)\n",
    "    elif choice == \"x2\":\n",
    "        result = num1*num1\n",
    "        print(\"square of num \",result)\n",
    "    else:\n",
    "        print(\"Wrong choice\")\n",
    "        print(\"\"\"\n",
    "Please enter the choice as:\n",
    " + for addition\n",
    " - for subtraction\n",
    " * for multiplication\n",
    " / for division\n",
    " 1/x for dividing number by 1\n",
    " x2 for square of the number\n",
    "\"\"\")\n",
    "    num1 = 0\n",
    "    num2 = 0\n",
    "    exitvar = input(\"If you want to exit() type exit else press enter\")\n",
    "    if(exitvar == \"exit()\"):\n",
    "        exitIt = False"
   ]
  },
  {
   "cell_type": "markdown",
   "metadata": {},
   "source": [
    "Method 1 to stop loop"
   ]
  },
  {
   "cell_type": "code",
   "execution_count": 13,
   "metadata": {},
   "outputs": [],
   "source": [
    "exitvar = \"\"\n",
    "while(exitvar!=\"exit()\"):\n",
    "    exitvar = input(\"If you want to exit() type exit else press enter\")\n"
   ]
  },
  {
   "cell_type": "markdown",
   "metadata": {},
   "source": [
    "Method 2 to Stop Loop"
   ]
  },
  {
   "cell_type": "code",
   "execution_count": 16,
   "metadata": {},
   "outputs": [],
   "source": [
    "counter = 0\n",
    "while(True):\n",
    "    exitvar = input(\"If you want to exit() type exit else press enter\")\n",
    "    counter = counter+1\n",
    "    if(exitvar==\"exit()\"):\n",
    "        break\n",
    "else:\n",
    "    print(\"Exit out of loop \",counter)     \n",
    "\n",
    " "
   ]
  },
  {
   "cell_type": "markdown",
   "metadata": {},
   "source": [
    "LISTS"
   ]
  },
  {
   "cell_type": "code",
   "execution_count": null,
   "metadata": {},
   "outputs": [],
   "source": [
    "people = [\"Jitin\", \"Srimanta\", \"Haritha\", \"Durga\", 143,3455,344, 333]\n",
    "print(\"Length Of List\",len(people))\n",
    "leng = len(people)-1\n",
    "print(\"Get Last Element \",people[leng])\n",
    "print (\"Get negative Indexing \", people[-7])\n",
    "print(\"Get Range like OFFSET FETCH \", people[1:4])\n",
    "print(\"Get Range of all after somethign \", people[2:])\n",
    "print(\"Get Range like OFFSET FETCH in negative \", people[-4:-1])\n",
    "people[0] = \"Umesha\"\n",
    "print(\"update the List \",people)\n",
    "people[1:3] = [\"Abhijit\",\"Pablo\"]\n",
    "print(\"Update the ragne: \", people)\n",
    "people.insert(1,\"Vidhya\")\n",
    "print(\"Insterted new elelmet: \", people)\n",
    "people.append(\"Muruga\")\n",
    "print(\"Appended Item : \",people)\n",
    "people2 = [\"Amrit\", \"Anant\", \"Mohit\",\"Nagesham\", \"Pablo\"]\n",
    "people.extend(people2)\n",
    "print(\"Extended List: \", people)\n",
    "people.remove(\"Pablo\")\n",
    "print(\"Remove Items: \", people)\n",
    "people.pop(len(people)-1)\n",
    "print(\"Remvoe from end \", people)\n",
    "i = 0\n",
    "for x in people:\n",
    "    i=i+1\n",
    "    if x ==\"Mohit\":\n",
    "        print (\"Mothit Position is \",i)\n",
    "        break\n",
    "people.index(\"Mohit\")\n"
   ]
  },
  {
   "cell_type": "markdown",
   "metadata": {},
   "source": [
    "Tuples"
   ]
  },
  {
   "cell_type": "code",
   "execution_count": null,
   "metadata": {},
   "outputs": [],
   "source": [
    "people = (\"Jitin\", \"Srimanta\", \"Haritha\", \"Durga\", 143,3455,344, 333)\n",
    "print(\"Get Last Element \",people[leng])\n",
    "print (\"Get negative Indexing \", people[-7])\n",
    "print(\"Get Range like OFFSET FETCH \", people[1:4])\n",
    "print(\"Get Range of all after somethign \", people[2:])\n",
    "print(\"Get Range like OFFSET FETCH in negative \", people[-4:-1])\n",
    "#Convert tuple to list and then you can update a tuple\n",
    "peopleList = list(people)\n",
    "peopleList[1] = \"Pablo\"\n",
    "peopleList.append(\"Amrit\")\n",
    "people =tuple(peopleList)\n",
    "print(people)"
   ]
  },
  {
   "cell_type": "markdown",
   "metadata": {},
   "source": [
    "Sets"
   ]
  },
  {
   "cell_type": "code",
   "execution_count": null,
   "metadata": {},
   "outputs": [],
   "source": [
    "people = {\"Jitin\", \"Srimanta\", \"Haritha\", \"Durga\", 143,3455,344, 333,415,\"Abhijit\",\"Abhijit\"}\n",
    "people2 = {\"Amrit\", \"Anant\", \"Mohit\",\"Nagesham\", \"Pablo\",\"Jitin\", \"Srimanta\"}\n",
    "#people.update(people2)\n",
    "#union = people.union(people2)\n",
    "#intersection = people.intersection(people2)\n",
    "unionBySymbol = people | people2\n",
    "\n",
    "print(unionBySymbol)"
   ]
  },
  {
   "cell_type": "markdown",
   "metadata": {},
   "source": [
    "DICTIONARIES"
   ]
  },
  {
   "cell_type": "code",
   "execution_count": 160,
   "metadata": {},
   "outputs": [
    {
     "name": "stdout",
     "output_type": "stream",
     "text": [
      "{'fname': 'Jitin', 'lnaame': 'Singh', 'age': 32, 'addesss': {'permanet address': {'city': 'Hyderabad', 'state': 'MH', 'zip': 100112, 'phone': [9999999999, 88888888, 444444444]}}}\n"
     ]
    }
   ],
   "source": [
    "mydict = {\n",
    "    \"dict1\":{\n",
    "    \"emp_id\": 23,\n",
    "    \"emp_name\": \"Jitin\",\n",
    "    \"emp_email\": \"jitin@microsoft.com\",\n",
    "    \"emp_salary\": 1000030.52\n",
    "}, \n",
    "    \"dict2\":{\n",
    "    \"emp_id\": 55,\n",
    "    \"emp_name\": \"Durga\",\n",
    "    \"emp_email\": \"durga@microsoft.com\",\n",
    "    \"emp_salary\": 154846.52\n",
    "},\n",
    "    \"dict3\":{\n",
    "    \"emp_id\": 77,\n",
    "    \"emp_name\": \"Abhijit\",\n",
    "    \"emp_email\": \"abhijit@microsoft.com\",\n",
    "    \"emp_salary\": 6548514.52,\n",
    "    \"address\":\"Banglore\"\n",
    "}\n",
    "}\n",
    "#update Dictionary\n",
    "#mydict[\"dict2\"][\"emp_email1\"] = \"durga@google.com\"\n",
    "#mydict[\"dict2\"].update({\"emp_email1\":\"google.com\"})\n",
    "#mydict.pop(\"dict2\")\n",
    "#print(mydict)\n",
    "#mydict.items()\n",
    "\n",
    "# #all the items\n",
    "# for i in mydict:\n",
    "#     for j in mydict[i].items():\n",
    "#         print(j)\n",
    "#         print(' ')\n",
    "# #Only Keys\n",
    "# for i in mydict:\n",
    "#     for j in mydict[i].keys():\n",
    "#         print(j)\n",
    "#         print(' ')\n",
    "# #Only Values\n",
    "# for i in mydict:\n",
    "#     for j in mydict[i].values():\n",
    "#         print(j)\n",
    "#         print(' ')\n",
    "\n",
    "capitals ={ \"India\":\"New Delhi\", \"Crotia\":\"Zagreb\",\"Russia\": \"Moscow\",\"Itay\":\"Rome\", \"USA\":\"Washingtond DC\",\"Ukraine\": \"Keiv\"}\n",
    "cities = {\"India\":[\"New Delhi\", \"Banglore\"], \"USA\":[\"New York\", \"Washington\"], \"Russia\":[\"Cremia\",\"Moscow\", \"Pittsbug\"]}\n",
    "\n",
    "cities_and_countries = capitals | cities\n",
    "# print(cities_and_countries)\n",
    "\n",
    "\n",
    "bio1 ={\n",
    "    'fname':'Jitin',\n",
    "    'lnaame':'Singh',\n",
    "    'age':32,\n",
    "    'addesss':{\n",
    "\n",
    "        'permanet address':{\n",
    "            'city':'mumbai',\n",
    "            'state':'MH',\n",
    "            'zip':100112,\n",
    "            'phone':[9999999999,88888888,444444444]\n",
    "\n",
    "        },\n",
    "        'present address':{\n",
    "             'city':'Banglore',\n",
    "            'state':'KA',\n",
    "            'zip':301525,\n",
    "            'phone': 787878787\n",
    "\n",
    "        }\n",
    "    }\n",
    "\n",
    "}\n",
    " \n",
    "\n",
    "bio2 ={\n",
    "    'fname':'Jitin',\n",
    "    'lnaame':'Singh',\n",
    "    'age':32,\n",
    "    'addesss':{\n",
    "\n",
    "        'permanet address':{\n",
    "            'city':'mumbai',\n",
    "            'state':'MH',\n",
    "            'zip':100112,\n",
    "            'phone':[9999999999,88888888,444444444]\n",
    "\n",
    "        }\n",
    "        \n",
    "    }\n",
    "\n",
    "}\n",
    "# updatedDict = dict()\n",
    "# bio2.update(bio1)\n",
    "# updatedDict = bio2\n",
    "bio2[\"addesss\"][\"permanet address\"][\"city\"] = \"Hyderabad\"\n",
    "print(bio2)\n"
   ]
  }
 ],
 "metadata": {
  "kernelspec": {
   "display_name": "Python 3",
   "language": "python",
   "name": "python3"
  },
  "language_info": {
   "codemirror_mode": {
    "name": "ipython",
    "version": 3
   },
   "file_extension": ".py",
   "mimetype": "text/x-python",
   "name": "python",
   "nbconvert_exporter": "python",
   "pygments_lexer": "ipython3",
   "version": "3.12.7"
  }
 },
 "nbformat": 4,
 "nbformat_minor": 2
}
